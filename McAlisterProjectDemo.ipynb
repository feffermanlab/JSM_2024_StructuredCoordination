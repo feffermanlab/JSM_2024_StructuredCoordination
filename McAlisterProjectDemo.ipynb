{
 "cells": [
  {
   "cell_type": "markdown",
   "metadata": {},
   "source": [
    "# Python Tools for the Analysis of a Graph Theoretical Dynamical System using Networkx"
   ]
  },
  {
   "cell_type": "code",
   "execution_count": null,
   "metadata": {},
   "outputs": [],
   "source": [
    "%matplotlib notebook\n",
    "import time \n",
    "import numpy as np\n",
    "import matplotlib.pyplot as plt\n",
    "import networkx as nx\n",
    "import matplotlib.animation as animation\n",
    "import matplotlib.colors as mcolors\n",
    "import random\n",
    "import orbit\n",
    "import PartitionTools\n",
    "\n",
    "\n"
   ]
  },
  {
   "cell_type": "markdown",
   "metadata": {},
   "source": [
    "## Introduction to the Orbit object\n",
    "We start by making a connected graph G. "
   ]
  },
  {
   "cell_type": "code",
   "execution_count": null,
   "metadata": {},
   "outputs": [],
   "source": [
    "G = PartitionTools.gen_connected_graph(40,0.1)"
   ]
  },
  {
   "cell_type": "markdown",
   "metadata": {},
   "source": [
    "From this graph build an Orbit object which we will call \"myOrbit.\" The Orbit object has a \\_\\_str\\_\\_ function so we call print on myOrbit to get a breif description of the orbit."
   ]
  },
  {
   "cell_type": "code",
   "execution_count": null,
   "metadata": {},
   "outputs": [],
   "source": [
    "myOrbit = orbit.Orbit(G)\n",
    "print(myOrbit)"
   ]
  },
  {
   "cell_type": "markdown",
   "metadata": {},
   "source": [
    "myOrbit has attributes \"eq\", \"cycle2\", and \"cycle3\" which are each boolean varaibles that describe if the orbit ends in an equilibrium, a two-cycle, or a three-cycle respectively"
   ]
  },
  {
   "cell_type": "code",
   "execution_count": null,
   "metadata": {},
   "outputs": [],
   "source": [
    "print(\"myOrbit ends in an equilibrium:\")\n",
    "print(myOrbit.eq)\n",
    "print(\"myOrbit ends in a two-cycle:\")\n",
    "print(myOrbit.cycle2)\n",
    "print(\"myOrbit ends in a three-cycle:\")\n",
    "print(myOrbit.cycle3)"
   ]
  },
  {
   "cell_type": "markdown",
   "metadata": {},
   "source": [
    "## Visualization\n",
    "We visualize the equilibria with the draw() method of the Orbit class"
   ]
  },
  {
   "cell_type": "code",
   "execution_count": null,
   "metadata": {},
   "outputs": [],
   "source": [
    "myOrbit.draw()"
   ]
  },
  {
   "cell_type": "markdown",
   "metadata": {},
   "source": [
    "Just calling myOrbit.draw() will draw the last frame in the orbit. However, if we have a two cycle we may want to draw the last two frames side by side. We can do this as well. Tell the draw method which frames you intend to draw ((-2,-1) being the second to last and last frames respectively)  \n",
    "\n",
    "To ensure we get a 2 cycle, we will use a complete bipartite with a carefully selected initial condition."
   ]
  },
  {
   "cell_type": "code",
   "execution_count": null,
   "metadata": {},
   "outputs": [],
   "source": [
    "n1 = 8\n",
    "n2 = 5\n",
    "y0=(1,)*n1+(2,)*n2\n",
    "myNewOrbit = orbit.Orbit(nx.complete_bipartite_graph(n1,n2),y0)\n",
    "\n",
    "myNewOrbit.draw([-2,-1])"
   ]
  },
  {
   "cell_type": "markdown",
   "metadata": {},
   "source": [
    "you can also change the dimensions of the subplots in the draw() method by passing a tuple of dimensions"
   ]
  },
  {
   "cell_type": "code",
   "execution_count": null,
   "metadata": {},
   "outputs": [],
   "source": [
    "myNewOrbit.draw((-2,-1),(2,1))"
   ]
  },
  {
   "cell_type": "markdown",
   "metadata": {},
   "source": [
    "We can also visualize these orbits as they evolve through time by using the animation() method of the Orbit class. To illustrate this lets make a third orbit starting from a random graph and the default initial condition"
   ]
  },
  {
   "cell_type": "code",
   "execution_count": null,
   "metadata": {},
   "outputs": [],
   "source": [
    "myThirdOrbit = orbit.Orbit(PartitionTools.gen_connected_graph(50,0.08))\n",
    "myThirdOrbit.animation()"
   ]
  },
  {
   "cell_type": "markdown",
   "metadata": {},
   "source": [
    "## Tools for Analysis of the System\n",
    "The main tool in understanding equilibria of this system is by describing cliques: connected subgraphs wherein every vertex is the same color. The function find_cliques() takes the limit of an orbit and finds its cliques. Below I show the limit of myThirdOrbit and dertermine how many cliques it has. "
   ]
  },
  {
   "cell_type": "code",
   "execution_count": null,
   "metadata": {},
   "outputs": [],
   "source": [
    "if myThirdOrbit.eq:\n",
    "    myThirdOrbit.draw()\n",
    "else:\n",
    "    myThirdOrbit.draw((-2,-1))\n",
    "    \n",
    "cliques = PartitionTools.find_cliques(myThirdOrbit)\n",
    "print(\"myThirdOrbit has {} cliques in its limit\".format(len(cliques)))"
   ]
  },
  {
   "cell_type": "markdown",
   "metadata": {},
   "source": [
    "All of these tools will be essential in the analysis of this system. To make things easier in the future, the class Orbit is well documented with docstrings"
   ]
  },
  {
   "cell_type": "code",
   "execution_count": null,
   "metadata": {},
   "outputs": [],
   "source": [
    "help(orbit.Orbit)"
   ]
  },
  {
   "cell_type": "markdown",
   "metadata": {},
   "source": [
    "These orbit objects are very beautiful. Play around with the parameters of the graphs to see how the orbit behave differently"
   ]
  },
  {
   "cell_type": "code",
   "execution_count": null,
   "metadata": {},
   "outputs": [],
   "source": [
    "G = PartitionTools.gen_connected_graph(80,0.04)\n",
    "newOrbit = orbit.Orbit(G)\n",
    "print(newOrbit)\n",
    "ncliques = len(PartitionTools.find_cliques(newOrbit))\n",
    "print(\"This orbit ends in a limit with {} cliques\".format(ncliques))\n",
    "if newOrbit.eq:\n",
    "    newOrbit.draw()\n",
    "elif newOrbit.cycle2:\n",
    "    newOrbit.draw((-2,-1))\n",
    "elif newOrbit.cycle3:\n",
    "    newOrbit.draw((-3,-2,-1))\n",
    "else:\n",
    "    newOrbit.draw((-4,-3,-2,-1))\n",
    "    print(\"No small limit cycle or equilibrium was found\")"
   ]
  },
  {
   "cell_type": "code",
   "execution_count": null,
   "metadata": {},
   "outputs": [],
   "source": []
  }
 ],
 "metadata": {
  "kernelspec": {
   "display_name": "Python 3 (ipykernel)",
   "language": "python",
   "name": "python3"
  },
  "language_info": {
   "codemirror_mode": {
    "name": "ipython",
    "version": 3
   },
   "file_extension": ".py",
   "mimetype": "text/x-python",
   "name": "python",
   "nbconvert_exporter": "python",
   "pygments_lexer": "ipython3",
   "version": "3.9.13"
  }
 },
 "nbformat": 4,
 "nbformat_minor": 2
}
