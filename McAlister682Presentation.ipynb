{
 "cells": [
  {
   "cell_type": "markdown",
   "id": "1c5d3dea",
   "metadata": {},
   "source": [
    "# Tools for Analysis of a Graph Theoretical Dynamical System using Networkx\n",
    "First, lets discuss some Networkx tools which will be very helpful to us\n",
    "\n",
    "Recall that networkx has a Graph object to which we can add vertices and edges"
   ]
  },
  {
   "cell_type": "code",
   "execution_count": null,
   "id": "8be4f839",
   "metadata": {},
   "outputs": [],
   "source": [
    "import networkx as nx\n",
    "import numpy as np\n",
    "import matplotlib.pyplot as plt\n",
    "%matplotlib notebook\n",
    "\n",
    "G=nx.Graph()\n",
    "G.add_nodes_from(np.arange(0,10))\n",
    "G.add_edges_from([(0,1),(0,3),(0,5),(0,7),(0,9),(1,2),(7,9),(5,3),(4,6),(6,8),(8,4)])\n",
    "nx.draw(G)"
   ]
  },
  {
   "cell_type": "markdown",
   "id": "68fe7ef9",
   "metadata": {},
   "source": [
    "## Important Networkx tools\n",
    "The first thing that will be necessary is to access the neighbors of a specified vertex"
   ]
  },
  {
   "cell_type": "code",
   "execution_count": null,
   "id": "55a49baa",
   "metadata": {},
   "outputs": [],
   "source": [
    "neighbors = list(G.neighbors(0))\n",
    "print(neighbors)"
   ]
  },
  {
   "cell_type": "markdown",
   "id": "2c7b1210",
   "metadata": {},
   "source": [
    "We also will want to be able to get the connected components of the graph "
   ]
  },
  {
   "cell_type": "code",
   "execution_count": null,
   "id": "4b07d906",
   "metadata": {},
   "outputs": [],
   "source": [
    "comps = [G.subgraph(c).copy() for c in nx.connected_components(G)]\n",
    "\n",
    "plt.figure()\n",
    "plt.subplot(2,1,1)\n",
    "plt.title(\"connected component 1\")\n",
    "nx.draw(comps[0],node_color = 'r')\n",
    "plt.subplot(2,1,2)\n",
    "plt.title(\"connected component 2\")\n",
    "nx.draw(comps[1])\n",
    "plt.show()"
   ]
  },
  {
   "cell_type": "markdown",
   "id": "9f88c8eb",
   "metadata": {},
   "source": [
    "## Generating Graphs\n",
    "There are many well known graphs which can be immediately generated using \n",
    "networkx. For instance, $K_n, K_{n,m}$ and path graphs"
   ]
  },
  {
   "cell_type": "code",
   "execution_count": null,
   "id": "8adbab2a",
   "metadata": {},
   "outputs": [],
   "source": [
    "G1=nx.complete_graph(8)\n",
    "G2=nx.complete_bipartite_graph(5,3)\n",
    "G3=nx.path_graph(8)\n",
    "\n",
    "\n",
    "plt.figure()\n",
    "plt.subplot(1,3,1)\n",
    "plt.title(\"$K_8$\")\n",
    "nx.draw(G1)\n",
    "plt.subplot(1,3,2)\n",
    "plt.title(\"$K_{5,3}$\")\n",
    "nx.draw(G2)\n",
    "plt.subplot(1,3,3)\n",
    "plt.title(\"Path Graph\")\n",
    "nx.draw(G3)\n",
    "plt.show()\n"
   ]
  },
  {
   "cell_type": "markdown",
   "id": "06a41324",
   "metadata": {},
   "source": [
    "## Random graphs\n",
    "There are lots of ways to generate random graphs. Here are some very important ones:\n",
    "\n",
    "### Erdós Rényi Graphs\n",
    "Given an integer $n$ and a real number  $0\\leq p \\leq 1$ we generate a graph on $n$ vertices where each pair of vertices is given an edges with probability $p$"
   ]
  },
  {
   "cell_type": "code",
   "execution_count": null,
   "id": "4b08337b",
   "metadata": {},
   "outputs": [],
   "source": [
    "G = nx.erdos_renyi_graph(12,0.2)\n",
    "plt.figure()\n",
    "nx.draw(G)"
   ]
  },
  {
   "cell_type": "markdown",
   "id": "683f7186",
   "metadata": {},
   "source": [
    "Rerun that code block a couple times to see how the graph is randomly generated.\n",
    "\n",
    "### Watts Strogatz Graph\n",
    "The Watts Strogatz graph starts with a cyclic graph on $n$ vertices, then connects each vertex to its k nearest neighbors, then alters each edge with probability $p$. "
   ]
  },
  {
   "cell_type": "code",
   "execution_count": null,
   "id": "0172409b",
   "metadata": {},
   "outputs": [],
   "source": [
    "G= nx.watts_strogatz_graph(12,4,0.0)\n",
    "plt.figure()\n",
    "nx.draw(G)"
   ]
  },
  {
   "cell_type": "markdown",
   "id": "e2b7ae6b",
   "metadata": {},
   "source": [
    "Change the $p$ parameter to see the original ring structure of the graph\n",
    "\n",
    "There are also variations of the Watts Strogatz Graph like the Newman Watts Strogatz graph which only adds edges to the ring or the Watts Strogatz Connected Graph which unsuprisingly ensures that the Watts Strogatz algorithm results in a connected graph"
   ]
  },
  {
   "cell_type": "code",
   "execution_count": null,
   "id": "b8442720",
   "metadata": {},
   "outputs": [],
   "source": [
    "G1=nx.watts_strogatz_graph(12,2,0.2)\n",
    "G2=nx.newman_watts_strogatz_graph(12,2,0.2)\n",
    "G3=nx.connected_watts_strogatz_graph(12,2,0.2)\n",
    "\n",
    "\n",
    "plt.figure()\n",
    "plt.subplot(1,3,1)\n",
    "plt.title(\"Watts Strogatz\")\n",
    "nx.draw(G1)\n",
    "plt.subplot(1,3,2)\n",
    "plt.title(\"Newman Watts \\n Strogatz\")\n",
    "nx.draw(G2)\n",
    "plt.subplot(1,3,3)\n",
    "plt.title(\"Connected Watts \\n Strogatz\")\n",
    "nx.draw(G3)\n",
    "plt.show()"
   ]
  },
  {
   "cell_type": "markdown",
   "id": "6f6e0349",
   "metadata": {},
   "source": [
    "### Random Regular Graphs\n",
    "There are close to 100 graph generators in the networkx library, the last one I'll mention generates a $d$ regular graph (which is a graph wherein every vertex has dergree $d$. "
   ]
  },
  {
   "cell_type": "code",
   "execution_count": null,
   "id": "3002a1c9",
   "metadata": {},
   "outputs": [],
   "source": [
    "G= nx.random_regular_graph(4,12)\n",
    "plt.figure()\n",
    "nx.draw(G)"
   ]
  },
  {
   "cell_type": "markdown",
   "id": "d739aa53",
   "metadata": {},
   "source": [
    "## A Graph Theoretical Dynamical System\n",
    "\n",
    "Consider a connected graph $G(V,E)$ and a graph coloring of $G$, Suppose that every vertex \"wants\" to be the same color as the plurality of its neighbors. (Every vertex wants to conform to the majority of its associates). For any graph coloring, we can calculate the color that would have acheived this for each vertex (which two a game theorist would be the best resposne). If we color the graph using the best response coloring, we can do this process again and again leaving us with a sequence of colorings. "
   ]
  },
  {
   "cell_type": "code",
   "execution_count": null,
   "id": "dbc820f3",
   "metadata": {},
   "outputs": [],
   "source": [
    "import orbit\n",
    "import GTDS_equilibria\n",
    "import random\n",
    "\n",
    "G = nx.random_regular_graph(4,12)\n",
    "myOrbit = orbit.Orbit(G,[random.randint(0,4) for i in range(len(G.nodes))])\n",
    "myOrbit.draw(frames = (0,1,2),node_size=60)"
   ]
  },
  {
   "cell_type": "markdown",
   "id": "7efdf622",
   "metadata": {},
   "source": [
    "Above you see how each vertex updates its color. This updating rule gives us something like a dynamical system. We can investigate equilibria and stability of this system. For instance. If we continue this update process we well (likely) find an equilibrium (pictured below)"
   ]
  },
  {
   "cell_type": "code",
   "execution_count": null,
   "id": "88e62429",
   "metadata": {},
   "outputs": [],
   "source": [
    "myOrbit.draw(node_size=60)"
   ]
  },
  {
   "cell_type": "markdown",
   "id": "e6233feb",
   "metadata": {},
   "source": [
    "### the Orbit Class\n",
    "To study this system, I wrote a class called Orbit. The main thing to know about Orbit is that it is initialized with a graph and an initial coloring and, in its initialization, it solves the IVP of the GTDS.\n",
    "\n",
    "To see more about the Orbit class you can examine the docstring"
   ]
  },
  {
   "cell_type": "code",
   "execution_count": null,
   "id": "b9d2f819",
   "metadata": {},
   "outputs": [],
   "source": [
    "print(help(orbit.Orbit))"
   ]
  },
  {
   "cell_type": "markdown",
   "id": "3e102ad5",
   "metadata": {},
   "source": [
    "The main idea is that we can solve the IVP of this GTDS which is super helpful for making observations."
   ]
  },
  {
   "cell_type": "code",
   "execution_count": null,
   "id": "d4a2dc66",
   "metadata": {},
   "outputs": [],
   "source": [
    "myOrbit.animation()"
   ]
  },
  {
   "cell_type": "code",
   "execution_count": null,
   "id": "5a59d16e",
   "metadata": {},
   "outputs": [],
   "source": [
    "myNewOrbit = orbit.Orbit(nx.random_regular_graph(3,40))\n",
    "myNewOrbit.animation()"
   ]
  },
  {
   "cell_type": "markdown",
   "id": "aab0185f",
   "metadata": {},
   "source": [
    "Some times these orbits can end in equilibria, sometimes they end in two cycles. Just generating orbits and observing them like this can be exceptionally helpful. \n",
    "\n",
    "For instance having done this project we conjecture that 3-cycles may be impossible. \n",
    "\n",
    "I wrote a function \"gen_connected_graph()\" to generate a random graph using the Erdos-Renyi algorithm but then connect all the connected components."
   ]
  },
  {
   "cell_type": "code",
   "execution_count": null,
   "id": "f5188dd3",
   "metadata": {},
   "outputs": [],
   "source": [
    "myThirdOrbit=orbit.Orbit(GTDS_equilibria.gen_connected_graph(30,0.1))\n",
    "myThirdOrbit.animation()"
   ]
  },
  {
   "cell_type": "code",
   "execution_count": null,
   "id": "f1379981",
   "metadata": {},
   "outputs": [],
   "source": [
    "if(myThirdOrbit.eq):\n",
    "    myThirdOrbit.draw(node_size=60)\n",
    "else:\n",
    "    myThirdOrbit.draw(frames=(-2,-1),node_size=60)"
   ]
  },
  {
   "cell_type": "markdown",
   "id": "52739f1e",
   "metadata": {},
   "source": [
    "### Cliques Analysis \n",
    "\n",
    "Although direct is helpful, it of course is not our only tool for analysis. The main tool we are focusing on now is \"clique analysis\"\n",
    "A Clique is a connected subgraph in an equilibrium coloring in which all vertices have the same color. \n",
    "\n",
    "Given an orbit, we want to be able to extact the cliques as subgraphs so we can measure them\n",
    "\n"
   ]
  },
  {
   "cell_type": "code",
   "execution_count": null,
   "id": "6658813f",
   "metadata": {},
   "outputs": [],
   "source": [
    "cliques = GTDS_equilibria.find_cliques(myThirdOrbit)\n",
    "print(\"This orbit ends in a limit with {} cliques\".format(len(cliques)))"
   ]
  },
  {
   "cell_type": "code",
   "execution_count": null,
   "id": "01f44362",
   "metadata": {},
   "outputs": [],
   "source": [
    "plt.figure()\n",
    "nx.draw(cliques[0])\n",
    "plt.show()"
   ]
  },
  {
   "cell_type": "code",
   "execution_count": null,
   "id": "60ccd991",
   "metadata": {},
   "outputs": [],
   "source": [
    "plt.figure()\n",
    "nx.draw(cliques[1])\n",
    "plt.show()"
   ]
  },
  {
   "cell_type": "markdown",
   "id": "df47f38c",
   "metadata": {},
   "source": [
    "### Further Questions\n",
    "\n",
    "with these tools we are ready to atart trying to answer a great many questions:\n",
    "- Can we classify all the graph which only admit the trivial equilibrium?\n",
    "- Can we enumerate all the equilibria for a particular graph? (Probably a $n^n$ process)\n",
    "- Can we give some upper or lower bounds for the size of connectors or separators between two cliques?\n",
    "- Can we classify all equilibria for well understood graphs like $K_n, K_{n,m}$ and others? (yes)\n",
    "- Can we Derive a stability condition for equilibrium colorings?\n",
    "- Can we design a graph with a heteroclinic orbit?\n",
    "- Can we formulate this as a boundary value problem?"
   ]
  }
 ],
 "metadata": {
  "kernelspec": {
   "display_name": "Python 3 (ipykernel)",
   "language": "python",
   "name": "python3"
  },
  "language_info": {
   "codemirror_mode": {
    "name": "ipython",
    "version": 3
   },
   "file_extension": ".py",
   "mimetype": "text/x-python",
   "name": "python",
   "nbconvert_exporter": "python",
   "pygments_lexer": "ipython3",
   "version": "3.9.13"
  }
 },
 "nbformat": 4,
 "nbformat_minor": 5
}
